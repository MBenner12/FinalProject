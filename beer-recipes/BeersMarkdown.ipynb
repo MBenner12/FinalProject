{
 "cells": [
  {
   "cell_type": "markdown",
   "metadata": {},
   "source": [
    "BEER ME!\n",
    "\n",
    "You have been hired by a home brewing store as their go to consultant to suggest new and innovative inputs on how they can increase recipe and equipment sales. Since the desires of the consumer is an ever changing process, more and more people are looking to experiment on their own with some of their favorite beer styles and flavors. Since home brewing stores are a bit of a niche market, it is up to you (me) to make sure they know what to have stocked on their shelf. This particular store is a bit outdated with what they keep on hand. The owner has been reluctant to change, as they believe beer doesn't need to get too extravagant with the style or taste. The partner owner thinks otherwise. They are asking you to utilize a data processing platform to come up with insight to the demand of the consumer. They also think a predictive ML function would be a great thing to utilize for the future of the business and the evolving beer demand. \n",
    "\n",
    "We should ask ourselves three questions...\n",
    "    1. What styles do consumers prefer?\n",
    "    2. Can we find out what metrics are more important than others when considering a recipe? \n",
    "    3. Can this be represented from a data standpoint? "
   ]
  },
  {
   "cell_type": "code",
   "execution_count": 218,
   "metadata": {
    "collapsed": true
   },
   "outputs": [],
   "source": [
    "import pandas as pd\n",
    "import matplotlib.pyplot as plt\n",
    "import numpy as np"
   ]
  },
  {
   "cell_type": "code",
   "execution_count": 219,
   "metadata": {},
   "outputs": [
    {
     "data": {
      "text/html": [
       "<div>\n",
       "<style>\n",
       "    .dataframe thead tr:only-child th {\n",
       "        text-align: right;\n",
       "    }\n",
       "\n",
       "    .dataframe thead th {\n",
       "        text-align: left;\n",
       "    }\n",
       "\n",
       "    .dataframe tbody tr th {\n",
       "        vertical-align: top;\n",
       "    }\n",
       "</style>\n",
       "<table border=\"1\" class=\"dataframe\">\n",
       "  <thead>\n",
       "    <tr style=\"text-align: right;\">\n",
       "      <th></th>\n",
       "      <th>Name</th>\n",
       "      <th>URL</th>\n",
       "      <th>Style</th>\n",
       "      <th>StyleID</th>\n",
       "      <th>Size(L)</th>\n",
       "      <th>OG</th>\n",
       "      <th>FG</th>\n",
       "      <th>ABV</th>\n",
       "      <th>IBU</th>\n",
       "      <th>Color</th>\n",
       "      <th>...</th>\n",
       "      <th>BoilGravity</th>\n",
       "      <th>Efficiency</th>\n",
       "      <th>MashThickness</th>\n",
       "      <th>SugarScale</th>\n",
       "      <th>BrewMethod</th>\n",
       "      <th>PitchRate</th>\n",
       "      <th>PrimaryTemp</th>\n",
       "      <th>PrimingMethod</th>\n",
       "      <th>PrimingAmount</th>\n",
       "      <th>UserId</th>\n",
       "    </tr>\n",
       "    <tr>\n",
       "      <th>BeerID</th>\n",
       "      <th></th>\n",
       "      <th></th>\n",
       "      <th></th>\n",
       "      <th></th>\n",
       "      <th></th>\n",
       "      <th></th>\n",
       "      <th></th>\n",
       "      <th></th>\n",
       "      <th></th>\n",
       "      <th></th>\n",
       "      <th></th>\n",
       "      <th></th>\n",
       "      <th></th>\n",
       "      <th></th>\n",
       "      <th></th>\n",
       "      <th></th>\n",
       "      <th></th>\n",
       "      <th></th>\n",
       "      <th></th>\n",
       "      <th></th>\n",
       "      <th></th>\n",
       "    </tr>\n",
       "  </thead>\n",
       "  <tbody>\n",
       "    <tr>\n",
       "      <th>1</th>\n",
       "      <td>Vanilla Cream Ale</td>\n",
       "      <td>/homebrew/recipe/view/1633/vanilla-cream-ale</td>\n",
       "      <td>Cream Ale</td>\n",
       "      <td>45</td>\n",
       "      <td>21.77</td>\n",
       "      <td>1.055</td>\n",
       "      <td>1.013</td>\n",
       "      <td>5.48</td>\n",
       "      <td>17.65</td>\n",
       "      <td>4.83</td>\n",
       "      <td>...</td>\n",
       "      <td>1.038</td>\n",
       "      <td>70.0</td>\n",
       "      <td>NaN</td>\n",
       "      <td>Specific Gravity</td>\n",
       "      <td>All Grain</td>\n",
       "      <td>NaN</td>\n",
       "      <td>17.78</td>\n",
       "      <td>corn sugar</td>\n",
       "      <td>4.5 oz</td>\n",
       "      <td>116.0</td>\n",
       "    </tr>\n",
       "    <tr>\n",
       "      <th>2</th>\n",
       "      <td>Southern Tier Pumking clone</td>\n",
       "      <td>/homebrew/recipe/view/16367/southern-tier-pumk...</td>\n",
       "      <td>Holiday/Winter Special Spiced Beer</td>\n",
       "      <td>85</td>\n",
       "      <td>20.82</td>\n",
       "      <td>1.083</td>\n",
       "      <td>1.021</td>\n",
       "      <td>8.16</td>\n",
       "      <td>60.65</td>\n",
       "      <td>15.64</td>\n",
       "      <td>...</td>\n",
       "      <td>1.070</td>\n",
       "      <td>70.0</td>\n",
       "      <td>NaN</td>\n",
       "      <td>Specific Gravity</td>\n",
       "      <td>All Grain</td>\n",
       "      <td>NaN</td>\n",
       "      <td>NaN</td>\n",
       "      <td>NaN</td>\n",
       "      <td>NaN</td>\n",
       "      <td>955.0</td>\n",
       "    </tr>\n",
       "    <tr>\n",
       "      <th>3</th>\n",
       "      <td>Zombie Dust Clone - EXTRACT</td>\n",
       "      <td>/homebrew/recipe/view/5920/zombie-dust-clone-e...</td>\n",
       "      <td>American IPA</td>\n",
       "      <td>7</td>\n",
       "      <td>18.93</td>\n",
       "      <td>1.063</td>\n",
       "      <td>1.018</td>\n",
       "      <td>5.91</td>\n",
       "      <td>59.25</td>\n",
       "      <td>8.98</td>\n",
       "      <td>...</td>\n",
       "      <td>NaN</td>\n",
       "      <td>70.0</td>\n",
       "      <td>NaN</td>\n",
       "      <td>Specific Gravity</td>\n",
       "      <td>extract</td>\n",
       "      <td>NaN</td>\n",
       "      <td>NaN</td>\n",
       "      <td>NaN</td>\n",
       "      <td>NaN</td>\n",
       "      <td>NaN</td>\n",
       "    </tr>\n",
       "    <tr>\n",
       "      <th>4</th>\n",
       "      <td>Zombie Dust Clone - ALL GRAIN</td>\n",
       "      <td>/homebrew/recipe/view/5916/zombie-dust-clone-a...</td>\n",
       "      <td>American IPA</td>\n",
       "      <td>7</td>\n",
       "      <td>22.71</td>\n",
       "      <td>1.061</td>\n",
       "      <td>1.017</td>\n",
       "      <td>5.80</td>\n",
       "      <td>54.48</td>\n",
       "      <td>8.50</td>\n",
       "      <td>...</td>\n",
       "      <td>NaN</td>\n",
       "      <td>70.0</td>\n",
       "      <td>NaN</td>\n",
       "      <td>Specific Gravity</td>\n",
       "      <td>All Grain</td>\n",
       "      <td>NaN</td>\n",
       "      <td>NaN</td>\n",
       "      <td>NaN</td>\n",
       "      <td>NaN</td>\n",
       "      <td>NaN</td>\n",
       "    </tr>\n",
       "    <tr>\n",
       "      <th>5</th>\n",
       "      <td>Bakke Brygg Belgisk Blonde 50 l</td>\n",
       "      <td>/homebrew/recipe/view/89534/bakke-brygg-belgis...</td>\n",
       "      <td>Belgian Blond Ale</td>\n",
       "      <td>20</td>\n",
       "      <td>50.00</td>\n",
       "      <td>1.060</td>\n",
       "      <td>1.010</td>\n",
       "      <td>6.48</td>\n",
       "      <td>17.84</td>\n",
       "      <td>4.57</td>\n",
       "      <td>...</td>\n",
       "      <td>1.050</td>\n",
       "      <td>72.0</td>\n",
       "      <td>NaN</td>\n",
       "      <td>Specific Gravity</td>\n",
       "      <td>All Grain</td>\n",
       "      <td>NaN</td>\n",
       "      <td>19.00</td>\n",
       "      <td>Sukkerlake</td>\n",
       "      <td>6-7 g sukker/l</td>\n",
       "      <td>18325.0</td>\n",
       "    </tr>\n",
       "  </tbody>\n",
       "</table>\n",
       "<p>5 rows × 22 columns</p>\n",
       "</div>"
      ],
      "text/plain": [
       "                                   Name  \\\n",
       "BeerID                                    \n",
       "1                     Vanilla Cream Ale   \n",
       "2           Southern Tier Pumking clone   \n",
       "3           Zombie Dust Clone - EXTRACT   \n",
       "4         Zombie Dust Clone - ALL GRAIN   \n",
       "5       Bakke Brygg Belgisk Blonde 50 l   \n",
       "\n",
       "                                                      URL  \\\n",
       "BeerID                                                      \n",
       "1            /homebrew/recipe/view/1633/vanilla-cream-ale   \n",
       "2       /homebrew/recipe/view/16367/southern-tier-pumk...   \n",
       "3       /homebrew/recipe/view/5920/zombie-dust-clone-e...   \n",
       "4       /homebrew/recipe/view/5916/zombie-dust-clone-a...   \n",
       "5       /homebrew/recipe/view/89534/bakke-brygg-belgis...   \n",
       "\n",
       "                                     Style  StyleID  Size(L)     OG     FG  \\\n",
       "BeerID                                                                       \n",
       "1                                Cream Ale       45    21.77  1.055  1.013   \n",
       "2       Holiday/Winter Special Spiced Beer       85    20.82  1.083  1.021   \n",
       "3                             American IPA        7    18.93  1.063  1.018   \n",
       "4                             American IPA        7    22.71  1.061  1.017   \n",
       "5                        Belgian Blond Ale       20    50.00  1.060  1.010   \n",
       "\n",
       "         ABV    IBU  Color   ...     BoilGravity  Efficiency  MashThickness  \\\n",
       "BeerID                       ...                                              \n",
       "1       5.48  17.65   4.83   ...           1.038        70.0            NaN   \n",
       "2       8.16  60.65  15.64   ...           1.070        70.0            NaN   \n",
       "3       5.91  59.25   8.98   ...             NaN        70.0            NaN   \n",
       "4       5.80  54.48   8.50   ...             NaN        70.0            NaN   \n",
       "5       6.48  17.84   4.57   ...           1.050        72.0            NaN   \n",
       "\n",
       "              SugarScale  BrewMethod PitchRate PrimaryTemp  PrimingMethod  \\\n",
       "BeerID                                                                      \n",
       "1       Specific Gravity   All Grain       NaN       17.78     corn sugar   \n",
       "2       Specific Gravity   All Grain       NaN         NaN            NaN   \n",
       "3       Specific Gravity     extract       NaN         NaN            NaN   \n",
       "4       Specific Gravity   All Grain       NaN         NaN            NaN   \n",
       "5       Specific Gravity   All Grain       NaN       19.00     Sukkerlake   \n",
       "\n",
       "         PrimingAmount   UserId  \n",
       "BeerID                           \n",
       "1               4.5 oz    116.0  \n",
       "2                  NaN    955.0  \n",
       "3                  NaN      NaN  \n",
       "4                  NaN      NaN  \n",
       "5       6-7 g sukker/l  18325.0  \n",
       "\n",
       "[5 rows x 22 columns]"
      ]
     },
     "execution_count": 219,
     "metadata": {},
     "output_type": "execute_result"
    }
   ],
   "source": [
    "recipe = pd.read_csv('recipeData.csv', index_col='BeerID', encoding='latin1')\n",
    "recipe.head()"
   ]
  },
  {
   "cell_type": "code",
   "execution_count": 220,
   "metadata": {},
   "outputs": [
    {
     "data": {
      "text/html": [
       "<div>\n",
       "<style>\n",
       "    .dataframe thead tr:only-child th {\n",
       "        text-align: right;\n",
       "    }\n",
       "\n",
       "    .dataframe thead th {\n",
       "        text-align: left;\n",
       "    }\n",
       "\n",
       "    .dataframe tbody tr th {\n",
       "        vertical-align: top;\n",
       "    }\n",
       "</style>\n",
       "<table border=\"1\" class=\"dataframe\">\n",
       "  <thead>\n",
       "    <tr style=\"text-align: right;\">\n",
       "      <th></th>\n",
       "      <th>StyleID</th>\n",
       "    </tr>\n",
       "    <tr>\n",
       "      <th>Style</th>\n",
       "      <th></th>\n",
       "    </tr>\n",
       "  </thead>\n",
       "  <tbody>\n",
       "    <tr>\n",
       "      <th>Altbier</th>\n",
       "      <td>1</td>\n",
       "    </tr>\n",
       "    <tr>\n",
       "      <th>Alternative Grain Beer</th>\n",
       "      <td>2</td>\n",
       "    </tr>\n",
       "    <tr>\n",
       "      <th>Alternative Sugar Beer</th>\n",
       "      <td>3</td>\n",
       "    </tr>\n",
       "    <tr>\n",
       "      <th>American Amber Ale</th>\n",
       "      <td>4</td>\n",
       "    </tr>\n",
       "    <tr>\n",
       "      <th>American Barleywine</th>\n",
       "      <td>5</td>\n",
       "    </tr>\n",
       "  </tbody>\n",
       "</table>\n",
       "</div>"
      ],
      "text/plain": [
       "                        StyleID\n",
       "Style                          \n",
       "Altbier                       1\n",
       "Alternative Grain Beer        2\n",
       "Alternative Sugar Beer        3\n",
       "American Amber Ale            4\n",
       "American Barleywine           5"
      ]
     },
     "execution_count": 220,
     "metadata": {},
     "output_type": "execute_result"
    }
   ],
   "source": [
    "style = pd.read_csv('styleData.csv', index_col = 'Style', encoding='latin1')\n",
    "style.head()"
   ]
  },
  {
   "cell_type": "markdown",
   "metadata": {},
   "source": [
    "DATASETS"
   ]
  },
  {
   "cell_type": "markdown",
   "metadata": {},
   "source": [
    "We have been given two datasets to go off of. One is a beer recipe list that contains many well known beers from across the world. This set also includes the brewing specifications and outputs that go along with those beers. This information consists of style, ABV %, IBU's (bitterness), as well as boil gravities. The other dataset is a more consolidated version of the first, consisting of all of the styles of beer that are included in the first."
   ]
  },
  {
   "cell_type": "code",
   "execution_count": 221,
   "metadata": {},
   "outputs": [
    {
     "name": "stdout",
     "output_type": "stream",
     "text": [
      "Number of recipes =\t\t73861 \n",
      "Number of beer styles =\t176\n"
     ]
    }
   ],
   "source": [
    "#number of recipes and styles\n",
    "print('Number of recipes =\\t\\t{} \\nNumber of beer styles =\\t{}'.format(len(recipe), len(recipe['Style'].unique())))"
   ]
  },
  {
   "cell_type": "markdown",
   "metadata": {},
   "source": [
    "Let's look at the top styles of beer within this dataset, as a percent. It should give a good representation of what today's consumer is drinking the most of. "
   ]
  },
  {
   "cell_type": "code",
   "execution_count": 222,
   "metadata": {},
   "outputs": [
    {
     "name": "stdout",
     "output_type": "stream",
     "text": [
      "American IPA            16.165500\n",
      "American Pale Ale       10.263874\n",
      "Saison                   3.543142\n",
      "American Light Lager     3.082818\n",
      "American Amber Ale       2.759237\n",
      "Blonde Ale               2.373377\n",
      "Imperial IPA             2.001056\n",
      "American Stout           1.716738\n",
      "Irish Red Ale            1.630089\n",
      "American Brown Ale       1.559686\n",
      "Name: Style, dtype: float64\n"
     ]
    }
   ],
   "source": [
    "#top 10 types of beers, for pie chart\n",
    "top_n_types = 10\n",
    "recipe_popularity_as_perc = 100 * recipe['Style'].value_counts()[:top_n_types] / len(recipe)\n",
    "print(recipe_popularity_as_perc)"
   ]
  },
  {
   "cell_type": "code",
   "execution_count": 223,
   "metadata": {},
   "outputs": [
    {
     "data": {
      "image/png": "[encoded data removed]",
      "text/plain": [
       "<matplotlib.figure.Figure at 0x1a176c1128>"
      ]
     },
     "metadata": {},
     "output_type": "display_data"
    }
   ],
   "source": [
    "#pie chart--top 10 beer styles\n",
    "\n",
    "labels = [r'American IPA', r'American Pale Ale', r'Saison', r'American Light Lager', r'American Amber Ale', r'Blonde Ale',\n",
    "         r'Imperial IPA', r'American Stout', r'Irish Red Ale', r'American Brown Ale']\n",
    "sizes = [16.16, 10.26, 3.5, 3.08, 2.75, 2.37, 2.0, 1.71, 1.63, 1.55]\n",
    "colors = ['yellowgreen', 'gold', 'lightskyblue', 'lightcoral', 'red', 'blue', 'green', 'yellow', 'orange', 'purple']\n",
    "patches, texts = plt.pie(sizes, colors=colors, startangle=100)\n",
    "plt.legend(patches, labels, bbox_to_anchor=(0.85,1.025), loc=\"upper left\")\n",
    "\n",
    "plt.axis('equal')\n",
    "plt.show()"
   ]
  },
  {
   "cell_type": "markdown",
   "metadata": {},
   "source": [
    "These are pretty specific names. It is probably best to categorize the types of beers into broader terms, for the whole data set, and then see what the breakdown is."
   ]
  },
  {
   "cell_type": "code",
   "execution_count": 224,
   "metadata": {},
   "outputs": [
    {
     "name": "stdout",
     "output_type": "stream",
     "text": [
      "IPA         23.102855\n",
      "Ale         14.423038\n",
      "Pale Ale    11.110058\n",
      "Stout        8.061088\n",
      "Lager        5.564506\n",
      "Porter       3.655515\n",
      "Bitter       3.359012\n",
      "Cider        0.258594\n",
      "Name: BroadStyle, dtype: float64\n"
     ]
    }
   ],
   "source": [
    "broad_styles = ['Ale', 'IPA', 'Pale Ale', 'Lager', 'Stout', 'Bitter', 'Cider', 'Porter']\n",
    "recipe['BroadStyle'] = 'Other'\n",
    "recipe['Style'].fillna('Unknown', inplace=True)\n",
    "for broad_style in broad_styles:\n",
    "    recipe.loc[recipe['Style'].str.contains(broad_style), 'BroadStyle'] = broad_style\n",
    "    \n",
    "style_popularity_as_perc = 100 * recipe['BroadStyle'].value_counts() / len(recipe)\n",
    "style_popularity_as_perc.drop('Other', inplace=True)\n",
    "print(style_popularity_as_perc)"
   ]
  },
  {
   "cell_type": "markdown",
   "metadata": {},
   "source": [
    "Next, we should look at possibly predicting what alchol percentage beers home brewers are looking to brew the most, based on the recipe data at hand. We can then correlate that number to the style of beers that consistently have that particular alchol percentage. "
   ]
  },
  {
   "cell_type": "code",
   "execution_count": 225,
   "metadata": {},
   "outputs": [
    {
     "name": "stdout",
     "output_type": "stream",
     "text": [
      "73696 (99.78)%\tBeers stronger than 1 ABV\n",
      "57351 (77.65)%\tBeers stronger than 5 ABV\n",
      "2385 (3.23)%\tBeers stronger than 10 ABV\n",
      "195 (0.26)%\tBeers stronger than 15 ABV\n",
      "54 (0.07)%\tBeers stronger than 20 ABV\n"
     ]
    }
   ],
   "source": [
    "#calculate the percentage of beers stronger that certain ABV %'s\n",
    "strengths = [1, 5, 10, 15, 20]\n",
    "for abv in strengths:\n",
    "    print('{} ({:.2f})%\\tBeers stronger than {} ABV'.format(sum(recipe['ABV'] > abv), 100 * sum(recipe['ABV'] > abv) / len(recipe), abv))"
   ]
  },
  {
   "cell_type": "markdown",
   "metadata": {},
   "source": [
    "Now let's look at what these broad styles have in them, as far as ABV goes. Some consumers may go for higher ABV %'s, but only like beers that are either lighter or darker in color and/or body. "
   ]
  },
  {
   "cell_type": "code",
   "execution_count": 226,
   "metadata": {},
   "outputs": [
    {
     "data": {
      "image/png": "[encoded data removed]",
      "text/plain": [
       "<matplotlib.figure.Figure at 0x108e8ab38>"
      ]
     },
     "metadata": {},
     "output_type": "display_data"
    }
   ],
   "source": [
    "general_styles = ['Ale', 'IPA', 'Pale Ale', 'Lager', 'Stout', 'Bitter', 'Cider', 'Porter']\n",
    "general_styles_dict = {'Brown':'Red','Fruit':'Spice', 'Stout':'Porter'}\n",
    "\n",
    "df_general_styles = recipe.copy()\n",
    "df_general_styles['Style_aux'] = 'Other'\n",
    "for style in general_styles:\n",
    "    df_general_styles.loc[df_general_styles['Style'].str.contains(style), 'Style_aux'] = style\n",
    "\n",
    "plt.figure(figsize=(12,6))\n",
    "sns.boxplot(df_general_styles['Style_aux'], df_general_styles['ABV'])\n",
    "plt.xticks(rotation=45)\n",
    "plt.ylim(0,25)\n",
    "plt.title('Broad Style ABV %', fontsize=30)\n",
    "plt.xlabel('Broad Style', fontsize=25)\n",
    "plt.ylabel('ABV %', fontsize=25)\n",
    "plt.show()"
   ]
  },
  {
   "cell_type": "markdown",
   "metadata": {},
   "source": [
    "Let's do the same model for IBU's, or \"International Bitterness Units\""
   ]
  },
  {
   "cell_type": "code",
   "execution_count": 227,
   "metadata": {},
   "outputs": [
    {
     "name": "stdout",
     "output_type": "stream",
     "text": [
      "52877 (71.59)%\tBeers stronger than 25 IBU\n",
      "22334 (30.24)%\tBeers stronger than 50 IBU\n",
      "9599 (13.00)%\tBeers stronger than 75 IBU\n",
      "4235 (5.73)%\tBeers stronger than 100 IBU\n",
      "504 (0.68)%\tBeers stronger than 200 IBU\n"
     ]
    }
   ],
   "source": [
    "#calculate the percentage of beers stronger that certain IBU's\n",
    "bitterness = [25, 50, 75, 100, 200]\n",
    "for ibu in bitterness:\n",
    "    print('{} ({:.2f})%\\tBeers stronger than {} IBU'.format(sum(recipe['IBU'] > ibu), 100 * sum(recipe['IBU'] > ibu) / len(recipe), ibu))"
   ]
  },
  {
   "cell_type": "code",
   "execution_count": 228,
   "metadata": {},
   "outputs": [
    {
     "data": {
      "image/png": "[encoded data removed]",
      "text/plain": [
       "<matplotlib.figure.Figure at 0x1a1d49f9e8>"
      ]
     },
     "metadata": {},
     "output_type": "display_data"
    }
   ],
   "source": [
    "general_styles = ['Ale', 'IPA', 'Pale Ale', 'Lager', 'Stout', 'Bitter', 'Cider', 'Porter']\n",
    "#general_styles_dict = {'Brown':'Red','Fruit':'Spice', 'Stout':'Porter'}\n",
    "\n",
    "df_general_styles = recipe.copy()\n",
    "df_general_styles['Style_aux'] = 'Other'\n",
    "for style in general_styles:\n",
    "    df_general_styles.loc[df_general_styles['Style'].str.contains(style), 'Style_aux'] = style\n",
    "\n",
    "plt.figure(figsize=(12,6))\n",
    "sns.boxplot(df_general_styles['Style_aux'], df_general_styles['IBU'])\n",
    "plt.xticks(rotation=45)\n",
    "plt.ylim(0,200)\n",
    "plt.title('Broad Style IBU', fontsize=30)\n",
    "plt.xlabel('Broad Style', fontsize=25)\n",
    "plt.ylabel('IBU', fontsize=25)\n",
    "plt.show()"
   ]
  },
  {
   "cell_type": "code",
   "execution_count": 229,
   "metadata": {
    "collapsed": true
   },
   "outputs": [],
   "source": [
    "%matplotlib inline\n",
    "import matplotlib.pyplot as plt\n",
    "import numpy as np\n",
    "import pandas as pd"
   ]
  },
  {
   "cell_type": "markdown",
   "metadata": {},
   "source": [
    "Let's try making a linear regression model out of this. We need two numerical columns to do so. Since we used ABV and IBU's before, we can compare the two and see if there is a correlation. The idea of this is to see if certain alchohol volumes coupled with a certain IBU level is a telling sign that consumers demand one specific type of beer over another. So the higher the volume in one concentrated area should be a key indicator. "
   ]
  },
  {
   "cell_type": "code",
   "execution_count": 230,
   "metadata": {},
   "outputs": [
    {
     "name": "stdout",
     "output_type": "stream",
     "text": [
      "Shape:  (73861, 1) (73861, 1)\n"
     ]
    },
    {
     "data": {
      "text/plain": [
       "array([[ 5.48],\n",
       "       [ 8.16],\n",
       "       [ 5.91],\n",
       "       ..., \n",
       "       [ 5.01],\n",
       "       [ 4.82],\n",
       "       [ 6.55]])"
      ]
     },
     "execution_count": 230,
     "metadata": {},
     "output_type": "execute_result"
    }
   ],
   "source": [
    "X = recipe.ABV.values.reshape(-1, 1)\n",
    "y = recipe.IBU.values.reshape(-1, 1)\n",
    "print(\"Shape: \", X.shape, y.shape)\n",
    "X"
   ]
  },
  {
   "cell_type": "code",
   "execution_count": 232,
   "metadata": {},
   "outputs": [
    {
     "data": {
      "text/plain": [
       "(0, 200)"
      ]
     },
     "execution_count": 232,
     "metadata": {},
     "output_type": "execute_result"
    },
    {
     "data": {
      "image/png": "[encoded data removed]",
      "text/plain": [
       "<matplotlib.figure.Figure at 0x1a313a9400>"
      ]
     },
     "metadata": {},
     "output_type": "display_data"
    }
   ],
   "source": [
    "#resized this scatter plot. There are plenty of other entries with higher IBU's abnd ABV's, but this corridor is where the concentration lies. \n",
    "plt.scatter(X, y)\n",
    "plt.xlim(0, 15)\n",
    "plt.ylim(0, 200)"
   ]
  },
  {
   "cell_type": "code",
   "execution_count": 233,
   "metadata": {},
   "outputs": [
    {
     "name": "stdout",
     "output_type": "stream",
     "text": [
      "Weight coefficients:  [[ 6.63248598]]\n",
      "y-axis intercept:  [ 3.57351475]\n"
     ]
    }
   ],
   "source": [
    "from sklearn.linear_model import LinearRegression\n",
    "model = LinearRegression()\n",
    "model.fit(X, y)\n",
    "print('Weight coefficients: ', model.coef_)\n",
    "print('y-axis intercept: ', model.intercept_)"
   ]
  },
  {
   "cell_type": "code",
   "execution_count": 234,
   "metadata": {},
   "outputs": [
    {
     "name": "stdout",
     "output_type": "stream",
     "text": [
      "Min X Value: [[ 0.]]\n",
      "Max X Value: [[ 54.72]]\n"
     ]
    }
   ],
   "source": [
    "x_min = np.array([[X.min()]])\n",
    "x_max = np.array([[X.max()]])\n",
    "print(f\"Min X Value: {x_min}\")\n",
    "print(f\"Max X Value: {x_max}\")"
   ]
  },
  {
   "cell_type": "code",
   "execution_count": 235,
   "metadata": {},
   "outputs": [
    {
     "data": {
      "text/plain": [
       "(0, 200)"
      ]
     },
     "execution_count": 235,
     "metadata": {},
     "output_type": "execute_result"
    },
    {
     "data": {
      "image/png": "[encoded data removed]",
      "text/plain": [
       "<matplotlib.figure.Figure at 0x1a313aab38>"
      ]
     },
     "metadata": {},
     "output_type": "display_data"
    }
   ],
   "source": [
    "y_min = model.predict(x_min)\n",
    "y_max = model.predict(x_max)\n",
    "plt.scatter(X, y, c='green')\n",
    "plt.plot([x_min[0], x_max[0]], [y_min[0], y_max[0]], c='red')\n",
    "plt.xlim(0, 15)\n",
    "plt.ylim(0, 200)"
   ]
  },
  {
   "cell_type": "markdown",
   "metadata": {},
   "source": [
    "For the most part here, the majority of beers in this list are between 5-10% in ABV and contain various amounts of IBU's spanning form 0-200, for what was limited on this graph. Off cuff, this does not seem like a good model to use in deciding consumer preference, but still gives us a good visual representation of the target area home brewers like. "
   ]
  },
  {
   "cell_type": "code",
   "execution_count": 236,
   "metadata": {},
   "outputs": [
    {
     "data": {
      "text/plain": [
       "LinearRegression(copy_X=True, fit_intercept=True, n_jobs=1, normalize=False)"
      ]
     },
     "execution_count": 236,
     "metadata": {},
     "output_type": "execute_result"
    }
   ],
   "source": [
    "from sklearn.datasets import make_regression\n",
    "from sklearn.linear_model import LinearRegression\n",
    "\n",
    "# Generate some data\n",
    "X, y = make_regression(n_samples=75000, n_features=1, random_state=0, noise=4, bias=100.0)\n",
    "\n",
    "# Create a linear model\n",
    "model = LinearRegression()\n",
    "\n",
    "# Fit (Train) our model to the data\n",
    "model.fit(X, y)"
   ]
  },
  {
   "cell_type": "code",
   "execution_count": 237,
   "metadata": {},
   "outputs": [
    {
     "name": "stdout",
     "output_type": "stream",
     "text": [
      "Mean Squared Error (MSE): 16.08122923374772\n",
      "R-squared (R2 ): 0.36491931963768354\n"
     ]
    }
   ],
   "source": [
    "from sklearn.metrics import mean_squared_error, r2_score\n",
    "\n",
    "# Use our model to predict a value\n",
    "predicted = model.predict(X)\n",
    "\n",
    "# Score the prediction with mse and r2\n",
    "mse = mean_squared_error(y, predicted)\n",
    "r2 = r2_score(y, predicted)\n",
    "\n",
    "print(f\"Mean Squared Error (MSE): {mse}\")\n",
    "print(f\"R-squared (R2 ): {r2}\")"
   ]
  },
  {
   "cell_type": "markdown",
   "metadata": {},
   "source": [
    "OK, not a good indicator, probably since there are many different styles that can have high ABV and/or IBU. This does not help the store in deciding what to specifically stock their shelves with. We can include the other variables to at least find out what column labels are of higher importance. Random forest perhaps?  "
   ]
  },
  {
   "cell_type": "code",
   "execution_count": 238,
   "metadata": {},
   "outputs": [
    {
     "data": {
      "text/plain": [
       "0.37106416548568688"
      ]
     },
     "execution_count": 238,
     "metadata": {},
     "output_type": "execute_result"
    }
   ],
   "source": [
    "from sklearn.preprocessing import LabelEncoder, Imputer\n",
    "from sklearn.model_selection import train_test_split\n",
    "X_train, X_test, y_train, y_test = train_test_split(X, y, random_state=42)\n",
    "model.fit(X_train, y_train)\n",
    "model.score(X_test, y_test)"
   ]
  },
  {
   "cell_type": "markdown",
   "metadata": {},
   "source": [
    "In order to do this, we will reclassify X and y variables to take into account the other columns."
   ]
  },
  {
   "cell_type": "code",
   "execution_count": 240,
   "metadata": {},
   "outputs": [
    {
     "data": {
      "text/plain": [
       "RandomForestClassifier(bootstrap=True, class_weight=None, criterion='gini',\n",
       "            max_depth=None, max_features='auto', max_leaf_nodes=None,\n",
       "            min_impurity_decrease=0.0, min_impurity_split=None,\n",
       "            min_samples_leaf=1, min_samples_split=2,\n",
       "            min_weight_fraction_leaf=0.0, n_estimators=100, n_jobs=1,\n",
       "            oob_score=False, random_state=None, verbose=0,\n",
       "            warm_start=False)"
      ]
     },
     "execution_count": 240,
     "metadata": {},
     "output_type": "execute_result"
    }
   ],
   "source": [
    "from sklearn.ensemble import RandomForestClassifier\n",
    "from sklearn import preprocessing\n",
    "\n",
    "X = recipe[['Size(L)','OG','FG','ABV','IBU','Color','BoilSize','BoilTime','Efficiency']]\n",
    "y = recipe['StyleID']\n",
    "X_train, X_test, y_train, y_test = train_test_split(X, y, test_size=0.33, random_state=42)\n",
    "\n",
    "RFC = RandomForestClassifier(n_estimators = 100)\n",
    "RFC.fit(X_train,y_train)\n"
   ]
  },
  {
   "cell_type": "code",
   "execution_count": 241,
   "metadata": {
    "collapsed": true
   },
   "outputs": [],
   "source": [
    "y_pred = RFC.predict(X_test)"
   ]
  },
  {
   "cell_type": "code",
   "execution_count": 242,
   "metadata": {},
   "outputs": [
    {
     "name": "stdout",
     "output_type": "stream",
     "text": [
      "             precision    recall  f1-score   support\n",
      "\n",
      "          1       0.30      0.09      0.14        32\n",
      "          2       0.00      0.00      0.00        15\n",
      "          3       0.00      0.00      0.00         5\n",
      "          4       0.26      0.38      0.31       665\n",
      "          5       0.41      0.45      0.43       110\n",
      "          6       0.24      0.39      0.30       376\n",
      "          7       0.54      0.75      0.63      3892\n",
      "          8       0.21      0.07      0.11        69\n",
      "          9       0.24      0.18      0.20       787\n",
      "         10       0.40      0.60      0.48      2487\n",
      "         11       0.14      0.12      0.13       264\n",
      "         12       0.26      0.39      0.31       437\n",
      "         13       0.14      0.05      0.08        77\n",
      "         14       0.10      0.05      0.07       187\n",
      "         15       0.05      0.02      0.02       192\n",
      "         16       0.00      0.00      0.00         2\n",
      "         17       0.00      0.00      0.00        16\n",
      "         18       0.00      0.00      0.00        23\n",
      "         19       0.18      0.15      0.16       112\n",
      "         20       0.26      0.22      0.24       183\n",
      "         21       0.43      0.66      0.52       203\n",
      "         22       0.33      0.51      0.40       184\n",
      "         23       0.35      0.23      0.28       115\n",
      "         24       0.14      0.06      0.09       202\n",
      "         25       0.07      0.01      0.02       149\n",
      "         26       0.36      0.59      0.44       176\n",
      "         27       0.49      0.59      0.54       134\n",
      "         28       0.26      0.26      0.26       120\n",
      "         29       0.11      0.03      0.05        59\n",
      "         30       0.25      0.35      0.29       581\n",
      "         31       0.25      0.16      0.20       111\n",
      "         32       0.27      0.18      0.21        34\n",
      "         33       0.00      0.00      0.00        20\n",
      "         34       0.22      0.16      0.18       132\n",
      "         35       0.21      0.03      0.06        91\n",
      "         36       0.15      0.05      0.07        61\n",
      "         37       0.22      0.13      0.16       151\n",
      "         38       0.27      0.08      0.13        48\n",
      "         39       0.11      0.02      0.04       340\n",
      "         40       0.00      0.00      0.00        76\n",
      "         41       0.00      0.00      0.00        17\n",
      "         42       0.33      0.05      0.09        20\n",
      "         43       0.14      0.02      0.04        49\n",
      "         44       0.21      0.27      0.24        26\n",
      "         45       0.22      0.19      0.20       250\n",
      "         46       0.00      0.00      0.00         2\n",
      "         47       0.00      0.00      0.00        16\n",
      "         48       0.00      0.00      0.00         7\n",
      "         49       0.04      0.02      0.02        56\n",
      "         50       0.10      0.02      0.04        84\n",
      "         51       0.00      0.00      0.00        38\n",
      "         52       0.00      0.00      0.00        21\n",
      "         53       0.35      0.33      0.34        91\n",
      "         54       0.13      0.11      0.12        72\n",
      "         55       1.00      0.05      0.10        19\n",
      "         56       0.36      0.16      0.22       323\n",
      "         57       0.34      0.63      0.44        19\n",
      "         58       0.28      0.43      0.34       140\n",
      "         59       0.21      0.18      0.20        66\n",
      "         60       0.29      0.11      0.16        18\n",
      "         61       0.27      0.26      0.27        76\n",
      "         62       0.00      0.00      0.00         7\n",
      "         63       0.31      0.33      0.32        69\n",
      "         64       0.50      0.05      0.10        19\n",
      "         65       0.11      0.02      0.03       257\n",
      "         66       0.18      0.07      0.10        73\n",
      "         67       0.09      0.01      0.02       142\n",
      "         68       0.15      0.05      0.08       209\n",
      "         69       0.00      0.00      0.00        21\n",
      "         70       0.00      0.00      0.00        14\n",
      "         71       0.10      0.11      0.10        44\n",
      "         72       0.13      0.08      0.10       116\n",
      "         73       0.00      0.00      0.00         0\n",
      "         74       0.00      0.00      0.00         9\n",
      "         75       0.12      0.03      0.05       172\n",
      "         76       0.25      0.17      0.20         6\n",
      "         77       0.00      0.00      0.00        27\n",
      "         78       0.00      0.00      0.00         7\n",
      "         79       0.00      0.00      0.00         4\n",
      "         80       0.17      0.06      0.09        65\n",
      "         81       0.23      0.16      0.19       137\n",
      "         82       0.20      0.16      0.18        50\n",
      "         83       0.00      0.00      0.00        16\n",
      "         84       0.00      0.00      0.00        25\n",
      "         85       0.09      0.04      0.05       114\n",
      "         86       0.37      0.40      0.39       503\n",
      "         87       0.36      0.39      0.38       222\n",
      "         88       0.00      0.00      0.00        37\n",
      "         89       0.00      0.00      0.00        10\n",
      "         90       0.11      0.02      0.03       104\n",
      "         91       0.00      0.00      0.00        21\n",
      "         92       0.27      0.40      0.32       395\n",
      "         93       0.42      0.25      0.31       102\n",
      "         94       0.28      0.31      0.29       298\n",
      "         95       0.00      0.00      0.00         4\n",
      "         96       0.00      0.00      0.00         3\n",
      "         97       0.00      0.00      0.00        10\n",
      "         98       0.00      0.00      0.00        23\n",
      "         99       0.00      0.00      0.00         3\n",
      "        100       0.33      0.09      0.14        22\n",
      "        101       0.00      0.00      0.00         3\n",
      "        102       0.27      0.29      0.28       109\n",
      "        103       0.09      0.05      0.06        44\n",
      "        104       0.33      0.12      0.18         8\n",
      "        105       0.15      0.12      0.14        80\n",
      "        106       0.19      0.07      0.11        54\n",
      "        107       0.50      0.02      0.04        46\n",
      "        108       0.25      0.16      0.20        82\n",
      "        109       0.16      0.10      0.13        96\n",
      "        110       0.00      0.00      0.00         1\n",
      "        111       0.20      0.10      0.13       199\n",
      "        112       0.00      0.00      0.00        24\n",
      "        113       0.14      0.06      0.08        83\n",
      "        114       0.20      0.26      0.23       313\n",
      "        115       0.19      0.16      0.17       113\n",
      "        116       0.20      0.10      0.14       106\n",
      "        117       0.00      0.00      0.00         7\n",
      "        118       0.31      0.28      0.29        94\n",
      "        119       0.27      0.41      0.33        17\n",
      "        120       0.00      0.00      0.00        36\n",
      "        121       0.00      0.00      0.00        16\n",
      "        122       0.00      0.00      0.00        14\n",
      "        123       0.00      0.00      0.00         4\n",
      "        124       0.00      0.00      0.00        29\n",
      "        125       0.00      0.00      0.00        12\n",
      "        126       0.00      0.00      0.00         6\n",
      "        127       0.00      0.00      0.00         1\n",
      "        128       0.00      0.00      0.00        15\n",
      "        129       0.23      0.23      0.23       299\n",
      "        130       0.00      0.00      0.00        11\n",
      "        131       0.00      0.00      0.00        41\n",
      "        132       0.45      0.60      0.51       340\n",
      "        133       0.00      0.00      0.00        11\n",
      "        134       0.30      0.38      0.34       839\n",
      "        135       0.35      0.34      0.35        67\n",
      "        136       0.14      0.03      0.05        67\n",
      "        137       0.24      0.12      0.16        34\n",
      "        138       0.43      0.09      0.14        35\n",
      "        139       0.20      0.07      0.11        14\n",
      "        140       0.00      0.00      0.00        14\n",
      "        141       0.00      0.00      0.00        11\n",
      "        142       0.10      0.12      0.11        16\n",
      "        143       0.17      0.14      0.15        29\n",
      "        144       0.28      0.14      0.19       121\n",
      "        145       0.08      0.01      0.02       143\n",
      "        146       0.00      0.00      0.00        17\n",
      "        147       0.33      0.01      0.03        70\n",
      "        148       0.37      0.44      0.41       213\n",
      "        149       0.00      0.00      0.00        30\n",
      "        150       0.23      0.18      0.20       135\n",
      "        151       0.00      0.00      0.00        96\n",
      "        152       0.14      0.01      0.02        91\n",
      "        153       0.00      0.00      0.00        28\n",
      "        154       0.00      0.00      0.00         2\n",
      "        155       0.17      0.05      0.07       174\n",
      "        156       0.00      0.00      0.00        12\n",
      "        157       0.13      0.06      0.08       111\n",
      "        158       0.00      0.00      0.00        27\n",
      "        159       0.13      0.04      0.06       167\n",
      "        160       0.18      0.17      0.18        77\n",
      "        161       0.17      0.07      0.10        15\n",
      "        162       0.38      0.45      0.41       300\n",
      "        163       0.12      0.06      0.09        31\n",
      "        164       0.00      0.00      0.00         1\n",
      "        165       0.50      0.05      0.09        41\n",
      "        166       0.00      0.00      0.00        15\n",
      "        167       0.21      0.16      0.19       134\n",
      "        168       0.21      0.13      0.16        52\n",
      "        169       0.28      0.31      0.29       321\n",
      "        170       0.19      0.20      0.19       304\n",
      "        171       0.16      0.08      0.11        64\n",
      "        172       0.18      0.22      0.20         9\n",
      "        173       0.00      0.00      0.00        17\n",
      "        174       0.11      0.02      0.03        51\n",
      "        175       0.28      0.30      0.29       355\n",
      "        176       0.00      0.00      0.00        23\n",
      "\n",
      "avg / total       0.30      0.35      0.31     24375\n",
      "\n"
     ]
    },
    {
     "name": "stderr",
     "output_type": "stream",
     "text": [
      "/Users/mattbenner/anaconda3/lib/python3.6/site-packages/sklearn/metrics/classification.py:1135: UndefinedMetricWarning: Precision and F-score are ill-defined and being set to 0.0 in labels with no predicted samples.\n",
      "  'precision', 'predicted', average, warn_for)\n",
      "/Users/mattbenner/anaconda3/lib/python3.6/site-packages/sklearn/metrics/classification.py:1137: UndefinedMetricWarning: Recall and F-score are ill-defined and being set to 0.0 in labels with no true samples.\n",
      "  'recall', 'true', average, warn_for)\n"
     ]
    }
   ],
   "source": [
    "print(classification_report(y_test,y_pred))"
   ]
  },
  {
   "cell_type": "code",
   "execution_count": 243,
   "metadata": {},
   "outputs": [
    {
     "data": {
      "text/html": [
       "<div>\n",
       "<style>\n",
       "    .dataframe thead tr:only-child th {\n",
       "        text-align: right;\n",
       "    }\n",
       "\n",
       "    .dataframe thead th {\n",
       "        text-align: left;\n",
       "    }\n",
       "\n",
       "    .dataframe tbody tr th {\n",
       "        vertical-align: top;\n",
       "    }\n",
       "</style>\n",
       "<table border=\"1\" class=\"dataframe\">\n",
       "  <thead>\n",
       "    <tr style=\"text-align: right;\">\n",
       "      <th></th>\n",
       "      <th>Importance</th>\n",
       "    </tr>\n",
       "  </thead>\n",
       "  <tbody>\n",
       "    <tr>\n",
       "      <th>Size(L)</th>\n",
       "      <td>0.091338</td>\n",
       "    </tr>\n",
       "    <tr>\n",
       "      <th>OG</th>\n",
       "      <td>0.097144</td>\n",
       "    </tr>\n",
       "    <tr>\n",
       "      <th>FG</th>\n",
       "      <td>0.080682</td>\n",
       "    </tr>\n",
       "    <tr>\n",
       "      <th>ABV</th>\n",
       "      <td>0.145555</td>\n",
       "    </tr>\n",
       "    <tr>\n",
       "      <th>IBU</th>\n",
       "      <td>0.186382</td>\n",
       "    </tr>\n",
       "    <tr>\n",
       "      <th>Color</th>\n",
       "      <td>0.186768</td>\n",
       "    </tr>\n",
       "    <tr>\n",
       "      <th>BoilSize</th>\n",
       "      <td>0.101824</td>\n",
       "    </tr>\n",
       "    <tr>\n",
       "      <th>BoilTime</th>\n",
       "      <td>0.030129</td>\n",
       "    </tr>\n",
       "    <tr>\n",
       "      <th>Efficiency</th>\n",
       "      <td>0.080178</td>\n",
       "    </tr>\n",
       "  </tbody>\n",
       "</table>\n",
       "</div>"
      ],
      "text/plain": [
       "            Importance\n",
       "Size(L)       0.091338\n",
       "OG            0.097144\n",
       "FG            0.080682\n",
       "ABV           0.145555\n",
       "IBU           0.186382\n",
       "Color         0.186768\n",
       "BoilSize      0.101824\n",
       "BoilTime      0.030129\n",
       "Efficiency    0.080178"
      ]
     },
     "execution_count": 243,
     "metadata": {},
     "output_type": "execute_result"
    }
   ],
   "source": [
    "from sklearn.metrics import classification_report,confusion_matrix\n",
    "pd.DataFrame({'Importance':RFC.feature_importances_},index=X.columns)"
   ]
  },
  {
   "cell_type": "markdown",
   "metadata": {},
   "source": [
    "Though the regression model fell through, this random forest classification report and importance indicator does help us. It should help the store run a marketing survey initiative to gather information on home brewer interest based on top results here. Those were ABV, IBU, and color. Once they do that, they can compare that info to the data in the dataframe. \n",
    "\n",
    "I think with information from the consumer directly via survey, we, as a data science team could elaborate on this decision model to fine tune the result of the linear regression as well as the random forest framework. For now, we are basing our analysis on recipe data and the count of certain brew types. "
   ]
  },
  {
   "cell_type": "code",
   "execution_count": null,
   "metadata": {
    "collapsed": true
   },
   "outputs": [],
   "source": []
  }
 ],
 "metadata": {
  "kernelspec": {
   "display_name": "Python 3",
   "language": "python",
   "name": "python3"
  },
  "language_info": {
   "codemirror_mode": {
    "name": "ipython",
    "version": 3
   },
   "file_extension": ".py",
   "mimetype": "text/x-python",
   "name": "python",
   "nbconvert_exporter": "python",
   "pygments_lexer": "ipython3",
   "version": "3.6.3"
  }
 },
 "nbformat": 4,
 "nbformat_minor": 2
}
